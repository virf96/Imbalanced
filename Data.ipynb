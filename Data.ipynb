{
  "nbformat": 4,
  "nbformat_minor": 0,
  "metadata": {
    "colab": {
      "name": "Data.ipynb",
      "provenance": [],
      "authorship_tag": "ABX9TyOcJPtWjlw1yyUNavIfnkAy",
      "include_colab_link": true
    },
    "kernelspec": {
      "name": "python3",
      "display_name": "Python 3"
    }
  },
  "cells": [
    {
      "cell_type": "markdown",
      "metadata": {
        "id": "view-in-github",
        "colab_type": "text"
      },
      "source": [
        "<a href=\"https://colab.research.google.com/github/virf96/Imbalanced/blob/main/Data.ipynb\" target=\"_parent\"><img src=\"https://colab.research.google.com/assets/colab-badge.svg\" alt=\"Open In Colab\"/></a>"
      ]
    },
    {
      "cell_type": "code",
      "metadata": {
        "id": "lMK6_WNC0Uxq"
      },
      "source": [
        "import pandas as pd\r\n",
        "from imblearn.datasets import fetch_datasets"
      ],
      "execution_count": null,
      "outputs": []
    },
    {
      "cell_type": "code",
      "metadata": {
        "id": "f_PQnA7h0eM_"
      },
      "source": [
        "w = fetch_datasets()['protein_homo']\r\n",
        "\r\n",
        "# prepare data in a pandas dataframe\r\n",
        "w = pd.concat([\r\n",
        "    pd.DataFrame(w.data),\r\n",
        "    pd.Series(w.target)\r\n",
        "], axis=1)\r\n",
        "\r\n",
        "# add column names\r\n",
        "col_names = [str(i) for i in range(74)] +['target']\r\n",
        "w.columns = col_names\r\n",
        "\r\n",
        "# display\r\n",
        "w.head()"
      ],
      "execution_count": null,
      "outputs": []
    },
    {
      "cell_type": "code",
      "metadata": {
        "id": "JjMsFvbf0eJy"
      },
      "source": [
        "w.to_csv('kdd2004.csv', index=False)"
      ],
      "execution_count": null,
      "outputs": []
    }
  ]
}