{
  "nbformat": 4,
  "nbformat_minor": 0,
  "metadata": {
    "kernelspec": {
      "name": "python3",
      "display_name": "Python 3"
    },
    "toc": {
      "base_numbering": 1,
      "nav_menu": {},
      "number_sections": true,
      "sideBar": true,
      "skip_h1_title": false,
      "title_cell": "Table of Contents",
      "title_sidebar": "Contents",
      "toc_cell": false,
      "toc_position": {},
      "toc_section_display": true,
      "toc_window_display": true
    },
    "colab": {
      "name": "Métricas_Geometric-Mean-Dominance-IBA.ipynb",
      "provenance": [],
      "toc_visible": true,
      "include_colab_link": true
    }
  },
  "cells": [
    {
      "cell_type": "markdown",
      "metadata": {
        "id": "view-in-github",
        "colab_type": "text"
      },
      "source": [
        "<a href=\"https://colab.research.google.com/github/virf96/Imbalanced/blob/main/M%C3%A9tricas_Geometric_Mean_Dominance_IBA.ipynb\" target=\"_parent\"><img src=\"https://colab.research.google.com/assets/colab-badge.svg\" alt=\"Open In Colab\"/></a>"
      ]
    },
    {
      "cell_type": "markdown",
      "metadata": {
        "id": "-GdpvD26pzQM"
      },
      "source": [
        "## Geometric Mean, Dominance, Index of Imbalanced Accuracy\n",
        "\n",
        "- **G-Mean** = sqrt( tp / (tp = fn) * tn / (tn + fp) ) = sqrt ( recall x True Negative Rate)\n",
        "\n",
        "- **Dominance** = True Positive Rate - True Negative Rate\n",
        "\n",
        "- **IBA** = M * (1 + alpha * Dominance)\n",
        "\n",
        "- **TPR** = **Recall** = tp / (tp + fn)\n",
        "\n",
        "- **TNR** = tn / (tn + fp)\n",
        "\n",
        "\n",
        "All of these metrics depend on the discrimination threshold used to classify an observation as member of the minority or positive class."
      ]
    },
    {
      "cell_type": "code",
      "metadata": {
        "colab": {
          "base_uri": "https://localhost:8080/"
        },
        "id": "lnMEiMpipzQl",
        "outputId": "1b2b8be6-8ad0-4e55-bb54-94788bdb1a15"
      },
      "source": [
        "import numpy as np\n",
        "import pandas as pd\n",
        "import matplotlib.pyplot as plt\n",
        "\n",
        "from sklearn.ensemble import RandomForestClassifier\n",
        "from sklearn.linear_model import LogisticRegression\n",
        "from sklearn.model_selection import train_test_split\n",
        "\n",
        "from sklearn.metrics import (\n",
        "    recall_score,\n",
        "    accuracy_score,\n",
        "    balanced_accuracy_score,\n",
        ")\n",
        "\n",
        "from imblearn.metrics import (\n",
        "    geometric_mean_score,\n",
        "    make_index_balanced_accuracy,\n",
        ")"
      ],
      "execution_count": 1,
      "outputs": [
        {
          "output_type": "stream",
          "text": [
            "/usr/local/lib/python3.6/dist-packages/sklearn/externals/six.py:31: FutureWarning: The module is deprecated in version 0.21 and will be removed in version 0.23 since we've dropped support for Python 2.7. Please rely on the official version of six (https://pypi.org/project/six/).\n",
            "  \"(https://pypi.org/project/six/).\", FutureWarning)\n",
            "/usr/local/lib/python3.6/dist-packages/sklearn/utils/deprecation.py:144: FutureWarning: The sklearn.neighbors.base module is  deprecated in version 0.22 and will be removed in version 0.24. The corresponding classes / functions should instead be imported from sklearn.neighbors. Anything that cannot be imported from sklearn.neighbors is now part of the private API.\n",
            "  warnings.warn(message, FutureWarning)\n",
            "/usr/local/lib/python3.6/dist-packages/sklearn/utils/deprecation.py:144: FutureWarning: The sklearn.metrics.classification module is  deprecated in version 0.22 and will be removed in version 0.24. The corresponding classes / functions should instead be imported from sklearn.metrics. Anything that cannot be imported from sklearn.metrics is now part of the private API.\n",
            "  warnings.warn(message, FutureWarning)\n"
          ],
          "name": "stderr"
        }
      ]
    },
    {
      "cell_type": "markdown",
      "metadata": {
        "id": "qLBK0LWrpzQp"
      },
      "source": [
        "## Load data"
      ]
    },
    {
      "cell_type": "code",
      "metadata": {
        "colab": {
          "base_uri": "https://localhost:8080/"
        },
        "id": "3OFAYa66bXhm",
        "outputId": "81d293e7-ba81-4fa3-d2de-645a224a5076"
      },
      "source": [
        "from google.colab import drive\n",
        "drive.mount('/content/drive')"
      ],
      "execution_count": 2,
      "outputs": [
        {
          "output_type": "stream",
          "text": [
            "Mounted at /content/drive\n"
          ],
          "name": "stdout"
        }
      ]
    },
    {
      "cell_type": "code",
      "metadata": {
        "colab": {
          "base_uri": "https://localhost:8080/",
          "height": 211
        },
        "id": "c1TCrwOFpzQq",
        "outputId": "7f8f0aee-a2d7-42e5-c119-a31e97fab824"
      },
      "source": [
        "# load data\n",
        "data = pd.read_csv('/content/drive/MyDrive/datasets/kdd2004.csv')\n",
        "\n",
        "# remap target class to 0 and 1\n",
        "data['target'] = data['target'].map({-1:0, 1:1})\n",
        "\n",
        "data.head()"
      ],
      "execution_count": 3,
      "outputs": [
        {
          "output_type": "execute_result",
          "data": {
            "text/html": [
              "<div>\n",
              "<style scoped>\n",
              "    .dataframe tbody tr th:only-of-type {\n",
              "        vertical-align: middle;\n",
              "    }\n",
              "\n",
              "    .dataframe tbody tr th {\n",
              "        vertical-align: top;\n",
              "    }\n",
              "\n",
              "    .dataframe thead th {\n",
              "        text-align: right;\n",
              "    }\n",
              "</style>\n",
              "<table border=\"1\" class=\"dataframe\">\n",
              "  <thead>\n",
              "    <tr style=\"text-align: right;\">\n",
              "      <th></th>\n",
              "      <th>0</th>\n",
              "      <th>1</th>\n",
              "      <th>2</th>\n",
              "      <th>3</th>\n",
              "      <th>4</th>\n",
              "      <th>5</th>\n",
              "      <th>6</th>\n",
              "      <th>7</th>\n",
              "      <th>8</th>\n",
              "      <th>9</th>\n",
              "      <th>10</th>\n",
              "      <th>11</th>\n",
              "      <th>12</th>\n",
              "      <th>13</th>\n",
              "      <th>14</th>\n",
              "      <th>15</th>\n",
              "      <th>16</th>\n",
              "      <th>17</th>\n",
              "      <th>18</th>\n",
              "      <th>19</th>\n",
              "      <th>20</th>\n",
              "      <th>21</th>\n",
              "      <th>22</th>\n",
              "      <th>23</th>\n",
              "      <th>24</th>\n",
              "      <th>25</th>\n",
              "      <th>26</th>\n",
              "      <th>27</th>\n",
              "      <th>28</th>\n",
              "      <th>29</th>\n",
              "      <th>30</th>\n",
              "      <th>31</th>\n",
              "      <th>32</th>\n",
              "      <th>33</th>\n",
              "      <th>34</th>\n",
              "      <th>35</th>\n",
              "      <th>36</th>\n",
              "      <th>37</th>\n",
              "      <th>38</th>\n",
              "      <th>39</th>\n",
              "      <th>40</th>\n",
              "      <th>41</th>\n",
              "      <th>42</th>\n",
              "      <th>43</th>\n",
              "      <th>44</th>\n",
              "      <th>45</th>\n",
              "      <th>46</th>\n",
              "      <th>47</th>\n",
              "      <th>48</th>\n",
              "      <th>49</th>\n",
              "      <th>50</th>\n",
              "      <th>51</th>\n",
              "      <th>52</th>\n",
              "      <th>53</th>\n",
              "      <th>54</th>\n",
              "      <th>55</th>\n",
              "      <th>56</th>\n",
              "      <th>57</th>\n",
              "      <th>58</th>\n",
              "      <th>59</th>\n",
              "      <th>60</th>\n",
              "      <th>61</th>\n",
              "      <th>62</th>\n",
              "      <th>63</th>\n",
              "      <th>64</th>\n",
              "      <th>65</th>\n",
              "      <th>66</th>\n",
              "      <th>67</th>\n",
              "      <th>68</th>\n",
              "      <th>69</th>\n",
              "      <th>70</th>\n",
              "      <th>71</th>\n",
              "      <th>72</th>\n",
              "      <th>73</th>\n",
              "      <th>target</th>\n",
              "    </tr>\n",
              "  </thead>\n",
              "  <tbody>\n",
              "    <tr>\n",
              "      <th>0</th>\n",
              "      <td>52.0</td>\n",
              "      <td>32.69</td>\n",
              "      <td>0.30</td>\n",
              "      <td>2.5</td>\n",
              "      <td>20.0</td>\n",
              "      <td>1256.8</td>\n",
              "      <td>-0.89</td>\n",
              "      <td>0.33</td>\n",
              "      <td>11.0</td>\n",
              "      <td>-55.0</td>\n",
              "      <td>267.2</td>\n",
              "      <td>0.52</td>\n",
              "      <td>0.05</td>\n",
              "      <td>-2.36</td>\n",
              "      <td>49.6</td>\n",
              "      <td>252.0</td>\n",
              "      <td>0.43</td>\n",
              "      <td>1.16</td>\n",
              "      <td>-2.06</td>\n",
              "      <td>-33.0</td>\n",
              "      <td>-123.2</td>\n",
              "      <td>1.60</td>\n",
              "      <td>-0.49</td>\n",
              "      <td>-6.06</td>\n",
              "      <td>65.0</td>\n",
              "      <td>296.1</td>\n",
              "      <td>-0.28</td>\n",
              "      <td>-0.26</td>\n",
              "      <td>-3.83</td>\n",
              "      <td>-22.6</td>\n",
              "      <td>-170.0</td>\n",
              "      <td>3.06</td>\n",
              "      <td>-1.05</td>\n",
              "      <td>-3.29</td>\n",
              "      <td>22.9</td>\n",
              "      <td>286.3</td>\n",
              "      <td>0.12</td>\n",
              "      <td>2.58</td>\n",
              "      <td>4.08</td>\n",
              "      <td>-33.0</td>\n",
              "      <td>-178.9</td>\n",
              "      <td>1.88</td>\n",
              "      <td>0.53</td>\n",
              "      <td>-7.0</td>\n",
              "      <td>-44.0</td>\n",
              "      <td>1987.0</td>\n",
              "      <td>-5.41</td>\n",
              "      <td>0.95</td>\n",
              "      <td>-4.0</td>\n",
              "      <td>-57.0</td>\n",
              "      <td>722.9</td>\n",
              "      <td>-3.26</td>\n",
              "      <td>-0.55</td>\n",
              "      <td>-7.5</td>\n",
              "      <td>125.5</td>\n",
              "      <td>1547.2</td>\n",
              "      <td>-0.36</td>\n",
              "      <td>1.12</td>\n",
              "      <td>9.0</td>\n",
              "      <td>-37.0</td>\n",
              "      <td>72.5</td>\n",
              "      <td>0.47</td>\n",
              "      <td>0.74</td>\n",
              "      <td>-11.0</td>\n",
              "      <td>-8.0</td>\n",
              "      <td>1595.1</td>\n",
              "      <td>-1.64</td>\n",
              "      <td>2.83</td>\n",
              "      <td>-2.0</td>\n",
              "      <td>-50.0</td>\n",
              "      <td>445.2</td>\n",
              "      <td>-0.35</td>\n",
              "      <td>0.26</td>\n",
              "      <td>0.76</td>\n",
              "      <td>0</td>\n",
              "    </tr>\n",
              "    <tr>\n",
              "      <th>1</th>\n",
              "      <td>58.0</td>\n",
              "      <td>33.33</td>\n",
              "      <td>0.00</td>\n",
              "      <td>16.5</td>\n",
              "      <td>9.5</td>\n",
              "      <td>608.1</td>\n",
              "      <td>0.50</td>\n",
              "      <td>0.07</td>\n",
              "      <td>20.5</td>\n",
              "      <td>-52.5</td>\n",
              "      <td>521.6</td>\n",
              "      <td>-1.08</td>\n",
              "      <td>0.58</td>\n",
              "      <td>-0.02</td>\n",
              "      <td>-3.2</td>\n",
              "      <td>103.6</td>\n",
              "      <td>-0.95</td>\n",
              "      <td>0.23</td>\n",
              "      <td>-2.87</td>\n",
              "      <td>-25.9</td>\n",
              "      <td>-52.2</td>\n",
              "      <td>-0.21</td>\n",
              "      <td>0.87</td>\n",
              "      <td>-1.81</td>\n",
              "      <td>10.4</td>\n",
              "      <td>62.0</td>\n",
              "      <td>-0.28</td>\n",
              "      <td>-0.04</td>\n",
              "      <td>1.48</td>\n",
              "      <td>-17.6</td>\n",
              "      <td>-198.3</td>\n",
              "      <td>3.43</td>\n",
              "      <td>2.84</td>\n",
              "      <td>5.87</td>\n",
              "      <td>-16.9</td>\n",
              "      <td>72.6</td>\n",
              "      <td>-0.31</td>\n",
              "      <td>2.79</td>\n",
              "      <td>2.71</td>\n",
              "      <td>-33.5</td>\n",
              "      <td>-11.6</td>\n",
              "      <td>-1.11</td>\n",
              "      <td>4.01</td>\n",
              "      <td>5.0</td>\n",
              "      <td>-57.0</td>\n",
              "      <td>666.3</td>\n",
              "      <td>1.13</td>\n",
              "      <td>4.38</td>\n",
              "      <td>5.0</td>\n",
              "      <td>-64.0</td>\n",
              "      <td>39.3</td>\n",
              "      <td>1.07</td>\n",
              "      <td>-0.16</td>\n",
              "      <td>32.5</td>\n",
              "      <td>100.0</td>\n",
              "      <td>1893.7</td>\n",
              "      <td>-2.80</td>\n",
              "      <td>-0.22</td>\n",
              "      <td>2.5</td>\n",
              "      <td>-28.5</td>\n",
              "      <td>45.0</td>\n",
              "      <td>0.58</td>\n",
              "      <td>0.41</td>\n",
              "      <td>-19.0</td>\n",
              "      <td>-6.0</td>\n",
              "      <td>762.9</td>\n",
              "      <td>0.29</td>\n",
              "      <td>0.82</td>\n",
              "      <td>-3.0</td>\n",
              "      <td>-35.0</td>\n",
              "      <td>140.3</td>\n",
              "      <td>1.16</td>\n",
              "      <td>0.39</td>\n",
              "      <td>0.73</td>\n",
              "      <td>0</td>\n",
              "    </tr>\n",
              "    <tr>\n",
              "      <th>2</th>\n",
              "      <td>77.0</td>\n",
              "      <td>27.27</td>\n",
              "      <td>-0.91</td>\n",
              "      <td>6.0</td>\n",
              "      <td>58.5</td>\n",
              "      <td>1623.6</td>\n",
              "      <td>-1.40</td>\n",
              "      <td>0.02</td>\n",
              "      <td>-6.5</td>\n",
              "      <td>-48.0</td>\n",
              "      <td>621.0</td>\n",
              "      <td>-1.20</td>\n",
              "      <td>0.14</td>\n",
              "      <td>-0.20</td>\n",
              "      <td>73.6</td>\n",
              "      <td>609.1</td>\n",
              "      <td>-0.44</td>\n",
              "      <td>-0.58</td>\n",
              "      <td>-0.04</td>\n",
              "      <td>-23.0</td>\n",
              "      <td>-27.4</td>\n",
              "      <td>-0.72</td>\n",
              "      <td>-1.04</td>\n",
              "      <td>-1.09</td>\n",
              "      <td>91.1</td>\n",
              "      <td>635.6</td>\n",
              "      <td>-0.88</td>\n",
              "      <td>0.24</td>\n",
              "      <td>0.59</td>\n",
              "      <td>-18.7</td>\n",
              "      <td>-7.2</td>\n",
              "      <td>-0.60</td>\n",
              "      <td>-2.82</td>\n",
              "      <td>-0.71</td>\n",
              "      <td>52.4</td>\n",
              "      <td>504.1</td>\n",
              "      <td>0.89</td>\n",
              "      <td>-0.67</td>\n",
              "      <td>-9.30</td>\n",
              "      <td>-20.8</td>\n",
              "      <td>-25.7</td>\n",
              "      <td>-0.77</td>\n",
              "      <td>-0.85</td>\n",
              "      <td>0.0</td>\n",
              "      <td>-20.0</td>\n",
              "      <td>2259.0</td>\n",
              "      <td>-0.94</td>\n",
              "      <td>1.15</td>\n",
              "      <td>-4.0</td>\n",
              "      <td>-44.0</td>\n",
              "      <td>-22.7</td>\n",
              "      <td>0.94</td>\n",
              "      <td>-0.98</td>\n",
              "      <td>-19.0</td>\n",
              "      <td>105.0</td>\n",
              "      <td>1267.9</td>\n",
              "      <td>1.03</td>\n",
              "      <td>1.27</td>\n",
              "      <td>11.0</td>\n",
              "      <td>-39.5</td>\n",
              "      <td>82.3</td>\n",
              "      <td>0.47</td>\n",
              "      <td>-0.19</td>\n",
              "      <td>-10.0</td>\n",
              "      <td>7.0</td>\n",
              "      <td>1491.8</td>\n",
              "      <td>0.32</td>\n",
              "      <td>-1.29</td>\n",
              "      <td>0.0</td>\n",
              "      <td>-34.0</td>\n",
              "      <td>658.2</td>\n",
              "      <td>-0.76</td>\n",
              "      <td>0.26</td>\n",
              "      <td>0.24</td>\n",
              "      <td>0</td>\n",
              "    </tr>\n",
              "    <tr>\n",
              "      <th>3</th>\n",
              "      <td>41.0</td>\n",
              "      <td>27.91</td>\n",
              "      <td>-0.35</td>\n",
              "      <td>3.0</td>\n",
              "      <td>46.0</td>\n",
              "      <td>1921.6</td>\n",
              "      <td>-1.36</td>\n",
              "      <td>-0.47</td>\n",
              "      <td>-32.0</td>\n",
              "      <td>-51.5</td>\n",
              "      <td>560.9</td>\n",
              "      <td>-0.29</td>\n",
              "      <td>-0.10</td>\n",
              "      <td>-1.11</td>\n",
              "      <td>124.3</td>\n",
              "      <td>791.6</td>\n",
              "      <td>0.00</td>\n",
              "      <td>0.39</td>\n",
              "      <td>-1.85</td>\n",
              "      <td>-21.7</td>\n",
              "      <td>-44.9</td>\n",
              "      <td>-0.21</td>\n",
              "      <td>0.02</td>\n",
              "      <td>0.89</td>\n",
              "      <td>133.9</td>\n",
              "      <td>797.8</td>\n",
              "      <td>-0.08</td>\n",
              "      <td>1.06</td>\n",
              "      <td>-0.26</td>\n",
              "      <td>-16.4</td>\n",
              "      <td>-74.1</td>\n",
              "      <td>0.97</td>\n",
              "      <td>-0.80</td>\n",
              "      <td>-0.41</td>\n",
              "      <td>66.9</td>\n",
              "      <td>955.3</td>\n",
              "      <td>-1.90</td>\n",
              "      <td>1.28</td>\n",
              "      <td>-6.65</td>\n",
              "      <td>-28.1</td>\n",
              "      <td>47.5</td>\n",
              "      <td>-1.91</td>\n",
              "      <td>1.42</td>\n",
              "      <td>1.0</td>\n",
              "      <td>-30.0</td>\n",
              "      <td>1846.7</td>\n",
              "      <td>0.76</td>\n",
              "      <td>1.10</td>\n",
              "      <td>-4.0</td>\n",
              "      <td>-52.0</td>\n",
              "      <td>-53.9</td>\n",
              "      <td>1.71</td>\n",
              "      <td>-0.22</td>\n",
              "      <td>-12.0</td>\n",
              "      <td>97.5</td>\n",
              "      <td>1969.8</td>\n",
              "      <td>-1.70</td>\n",
              "      <td>0.16</td>\n",
              "      <td>-1.0</td>\n",
              "      <td>-32.5</td>\n",
              "      <td>255.9</td>\n",
              "      <td>-0.46</td>\n",
              "      <td>1.57</td>\n",
              "      <td>10.0</td>\n",
              "      <td>6.0</td>\n",
              "      <td>2047.7</td>\n",
              "      <td>-0.98</td>\n",
              "      <td>1.53</td>\n",
              "      <td>0.0</td>\n",
              "      <td>-49.0</td>\n",
              "      <td>554.2</td>\n",
              "      <td>-0.83</td>\n",
              "      <td>0.39</td>\n",
              "      <td>0.73</td>\n",
              "      <td>0</td>\n",
              "    </tr>\n",
              "    <tr>\n",
              "      <th>4</th>\n",
              "      <td>50.0</td>\n",
              "      <td>28.00</td>\n",
              "      <td>-1.32</td>\n",
              "      <td>-9.0</td>\n",
              "      <td>12.0</td>\n",
              "      <td>464.8</td>\n",
              "      <td>0.88</td>\n",
              "      <td>0.19</td>\n",
              "      <td>8.0</td>\n",
              "      <td>-51.5</td>\n",
              "      <td>98.1</td>\n",
              "      <td>1.09</td>\n",
              "      <td>-0.33</td>\n",
              "      <td>-2.16</td>\n",
              "      <td>-3.9</td>\n",
              "      <td>102.7</td>\n",
              "      <td>0.39</td>\n",
              "      <td>-1.22</td>\n",
              "      <td>-3.39</td>\n",
              "      <td>-15.2</td>\n",
              "      <td>-42.2</td>\n",
              "      <td>-1.18</td>\n",
              "      <td>-1.11</td>\n",
              "      <td>-3.55</td>\n",
              "      <td>8.9</td>\n",
              "      <td>141.3</td>\n",
              "      <td>-0.16</td>\n",
              "      <td>-0.43</td>\n",
              "      <td>-4.15</td>\n",
              "      <td>-12.9</td>\n",
              "      <td>-13.4</td>\n",
              "      <td>-1.32</td>\n",
              "      <td>-0.98</td>\n",
              "      <td>-3.69</td>\n",
              "      <td>8.8</td>\n",
              "      <td>136.1</td>\n",
              "      <td>-0.30</td>\n",
              "      <td>4.13</td>\n",
              "      <td>1.89</td>\n",
              "      <td>-13.0</td>\n",
              "      <td>-18.7</td>\n",
              "      <td>-1.37</td>\n",
              "      <td>-0.93</td>\n",
              "      <td>0.0</td>\n",
              "      <td>-1.0</td>\n",
              "      <td>810.1</td>\n",
              "      <td>-2.29</td>\n",
              "      <td>6.72</td>\n",
              "      <td>1.0</td>\n",
              "      <td>-23.0</td>\n",
              "      <td>-29.7</td>\n",
              "      <td>0.58</td>\n",
              "      <td>-1.10</td>\n",
              "      <td>-18.5</td>\n",
              "      <td>33.5</td>\n",
              "      <td>206.8</td>\n",
              "      <td>1.84</td>\n",
              "      <td>-0.13</td>\n",
              "      <td>4.0</td>\n",
              "      <td>-29.0</td>\n",
              "      <td>30.1</td>\n",
              "      <td>0.80</td>\n",
              "      <td>-0.24</td>\n",
              "      <td>5.0</td>\n",
              "      <td>-14.0</td>\n",
              "      <td>479.5</td>\n",
              "      <td>0.68</td>\n",
              "      <td>-0.59</td>\n",
              "      <td>2.0</td>\n",
              "      <td>-36.0</td>\n",
              "      <td>-6.9</td>\n",
              "      <td>2.02</td>\n",
              "      <td>0.14</td>\n",
              "      <td>-0.23</td>\n",
              "      <td>0</td>\n",
              "    </tr>\n",
              "  </tbody>\n",
              "</table>\n",
              "</div>"
            ],
            "text/plain": [
              "      0      1     2     3     4       5  ...    69     70    71    72    73  target\n",
              "0  52.0  32.69  0.30   2.5  20.0  1256.8  ... -50.0  445.2 -0.35  0.26  0.76       0\n",
              "1  58.0  33.33  0.00  16.5   9.5   608.1  ... -35.0  140.3  1.16  0.39  0.73       0\n",
              "2  77.0  27.27 -0.91   6.0  58.5  1623.6  ... -34.0  658.2 -0.76  0.26  0.24       0\n",
              "3  41.0  27.91 -0.35   3.0  46.0  1921.6  ... -49.0  554.2 -0.83  0.39  0.73       0\n",
              "4  50.0  28.00 -1.32  -9.0  12.0   464.8  ... -36.0   -6.9  2.02  0.14 -0.23       0\n",
              "\n",
              "[5 rows x 75 columns]"
            ]
          },
          "metadata": {
            "tags": []
          },
          "execution_count": 3
        }
      ]
    },
    {
      "cell_type": "code",
      "metadata": {
        "colab": {
          "base_uri": "https://localhost:8080/"
        },
        "id": "JvDZfNaGpzQu",
        "outputId": "aa9816c6-4f89-446b-e5c3-38f6b098fe2d"
      },
      "source": [
        "# data size\n",
        "\n",
        "data.shape"
      ],
      "execution_count": 4,
      "outputs": [
        {
          "output_type": "execute_result",
          "data": {
            "text/plain": [
              "(145751, 75)"
            ]
          },
          "metadata": {
            "tags": []
          },
          "execution_count": 4
        }
      ]
    },
    {
      "cell_type": "code",
      "metadata": {
        "colab": {
          "base_uri": "https://localhost:8080/"
        },
        "id": "U9eWk1XWpzQx",
        "outputId": "2196c3bb-d620-4158-8f67-c72baae5a63d"
      },
      "source": [
        "# imbalanced target\n",
        "\n",
        "data.target.value_counts() / len(data)"
      ],
      "execution_count": 5,
      "outputs": [
        {
          "output_type": "execute_result",
          "data": {
            "text/plain": [
              "0    0.991108\n",
              "1    0.008892\n",
              "Name: target, dtype: float64"
            ]
          },
          "metadata": {
            "tags": []
          },
          "execution_count": 5
        }
      ]
    },
    {
      "cell_type": "code",
      "metadata": {
        "colab": {
          "base_uri": "https://localhost:8080/"
        },
        "id": "7UZ-Rsa-pzQ0",
        "outputId": "fb5f13de-7284-4243-eb7f-e9b7b6484956"
      },
      "source": [
        "# separate dataset into train and test\n",
        "\n",
        "X_train, X_test, y_train, y_test = train_test_split(\n",
        "    data.drop(labels=['target'], axis=1),  # drop the target\n",
        "    data['target'],  # just the target\n",
        "    test_size=0.3,\n",
        "    random_state=0)\n",
        "\n",
        "X_train.shape, X_test.shape"
      ],
      "execution_count": 6,
      "outputs": [
        {
          "output_type": "execute_result",
          "data": {
            "text/plain": [
              "((102025, 74), (43726, 74))"
            ]
          },
          "metadata": {
            "tags": []
          },
          "execution_count": 6
        }
      ]
    },
    {
      "cell_type": "markdown",
      "metadata": {
        "id": "isTxYMC5pzQ2"
      },
      "source": [
        "## Baseline: predict the majority class"
      ]
    },
    {
      "cell_type": "code",
      "metadata": {
        "id": "bPkTb8eTpzQ4"
      },
      "source": [
        "# Baseline prediction: predict the majority class\n",
        "#Creamos un vector de ceros para ejemplicar casos para las métricas\n",
        "\n",
        "y_train_base = pd.Series(np.zeros(len(y_train)))\n",
        "y_test_base = pd.Series(np.zeros(len(y_test)))"
      ],
      "execution_count": 8,
      "outputs": []
    },
    {
      "cell_type": "markdown",
      "metadata": {
        "id": "dUVKaVBCpzQ5"
      },
      "source": [
        "## Train ML models\n",
        "\n",
        "### Random Forests"
      ]
    },
    {
      "cell_type": "code",
      "metadata": {
        "id": "B4iawe0UpzQ7"
      },
      "source": [
        "rf = RandomForestClassifier(n_estimators=100, random_state=39, max_depth=2, n_jobs=4)\n",
        "\n",
        "rf.fit(X_train, y_train)\n",
        "\n",
        "y_train_rf = rf.predict_proba(X_train)[:,1]\n",
        "y_test_rf = rf.predict_proba(X_test)[:,1]"
      ],
      "execution_count": 9,
      "outputs": []
    },
    {
      "cell_type": "markdown",
      "metadata": {
        "id": "WACoR0_ppzQ8"
      },
      "source": [
        "### Logistic Regression"
      ]
    },
    {
      "cell_type": "code",
      "metadata": {
        "colab": {
          "base_uri": "https://localhost:8080/"
        },
        "id": "NZ45i1ZnpzQ9",
        "outputId": "f0eed2c7-04c9-4c0b-f4cd-4d169acc8beb"
      },
      "source": [
        "logit = LogisticRegression(random_state=0,  max_iter=1000)\n",
        "\n",
        "logit.fit(X_train, y_train)\n",
        "\n",
        "y_train_logit = logit.predict_proba(X_train)[:,1]\n",
        "y_test_logit = logit.predict_proba(X_test)[:,1]"
      ],
      "execution_count": 10,
      "outputs": [
        {
          "output_type": "stream",
          "text": [
            "/usr/local/lib/python3.6/dist-packages/sklearn/linear_model/_logistic.py:940: ConvergenceWarning: lbfgs failed to converge (status=1):\n",
            "STOP: TOTAL NO. of ITERATIONS REACHED LIMIT.\n",
            "\n",
            "Increase the number of iterations (max_iter) or scale the data as shown in:\n",
            "    https://scikit-learn.org/stable/modules/preprocessing.html\n",
            "Please also refer to the documentation for alternative solver options:\n",
            "    https://scikit-learn.org/stable/modules/linear_model.html#logistic-regression\n",
            "  extra_warning_msg=_LOGISTIC_SOLVER_CONVERGENCE_MSG)\n"
          ],
          "name": "stderr"
        }
      ]
    },
    {
      "cell_type": "markdown",
      "metadata": {
        "id": "iCjIBoD_pzQ-"
      },
      "source": [
        "## Recall\n",
        "\n",
        "https://scikit-learn.org/stable/modules/generated/sklearn.metrics.recall_score.html\n",
        "\n",
        "- **TPR** = **Recall** = tp / (tp + fn)"
      ]
    },
    {
      "cell_type": "code",
      "metadata": {
        "colab": {
          "base_uri": "https://localhost:8080/"
        },
        "id": "3Ryf3F1NpzQ_",
        "outputId": "f5827298-6abb-450e-c93f-647859f8ba7c"
      },
      "source": [
        "print('Recall Baseline test: ', recall_score(y_test, y_test_base, pos_label=1))\n",
        "print('Recall Random Forest test:', recall_score(y_test, rf.predict(X_test), pos_label=1))\n",
        "print('Recall Logistic Regression test:', recall_score(y_test, logit.predict(X_test), pos_label=1))"
      ],
      "execution_count": 11,
      "outputs": [
        {
          "output_type": "stream",
          "text": [
            "Recall Baseline test:  0.0\n",
            "Recall Random Forest test: 0.6024691358024692\n",
            "Recall Logistic Regression test: 0.7234567901234568\n"
          ],
          "name": "stdout"
        }
      ]
    },
    {
      "cell_type": "markdown",
      "metadata": {
        "id": "WdZRa0QgclW3"
      },
      "source": [
        "Observamos que la tasa de verdadero positivos es de 0% para el primer caso dado que el modelo unicamente predice para una clase."
      ]
    },
    {
      "cell_type": "markdown",
      "metadata": {
        "id": "Fir-9P94pzRA"
      },
      "source": [
        "## True Negative Rate\n",
        "\n",
        "Equivalent of Recall, but for the majority class.\n",
        "\n",
        "- **TNR** = tn / (tn + fp)"
      ]
    },
    {
      "cell_type": "code",
      "metadata": {
        "colab": {
          "base_uri": "https://localhost:8080/"
        },
        "id": "zEV1G9U6pzRB",
        "outputId": "2d515eb8-a90f-4410-9bf9-57aa66308f55"
      },
      "source": [
        "print('TNR Baseline test: ', recall_score(y_test, y_test_base, pos_label=0))\n",
        "print('TNR Random Forest test:', recall_score(y_test, rf.predict(X_test), pos_label=0))\n",
        "print('TNR Logistic Regression test:', recall_score(y_test, logit.predict(X_test), pos_label=0))"
      ],
      "execution_count": 12,
      "outputs": [
        {
          "output_type": "stream",
          "text": [
            "TNR Baseline test:  1.0\n",
            "TNR Random Forest test: 0.9999769165070058\n",
            "TNR Logistic Regression test: 0.9995152466471227\n"
          ],
          "name": "stdout"
        }
      ]
    },
    {
      "cell_type": "markdown",
      "metadata": {
        "id": "YgJN6EEXc4BA"
      },
      "source": [
        "Observamos que la tasa de verdadero positivos es de 100% para el primer caso dado que el modelo unicamente predice para una clase."
      ]
    },
    {
      "cell_type": "markdown",
      "metadata": {
        "id": "asSz1eAVpzRC"
      },
      "source": [
        "## Geometric Mean\n",
        "\n",
        "https://imbalanced-learn.org/stable/generated/imblearn.metrics.geometric_mean_score.html\n",
        "\n",
        "- **G-Mean** = sqrt( tp / (tp = fn) * tn / (tn + fp) ) = sqrt ( recall x True Negative Rate)"
      ]
    },
    {
      "cell_type": "code",
      "metadata": {
        "id": "WLpHWMHNpzRD",
        "outputId": "02d7d3d1-f414-48a1-c46d-29573a5548fd"
      },
      "source": [
        "print('G-Mean Baseline test: ', geometric_mean_score(y_test, y_test_base))\n",
        "print('G-Mean Random Forest test:', geometric_mean_score(y_test, rf.predict(X_test)))\n",
        "print('G-Mean Logistic Regression test:', geometric_mean_score(y_test, logit.predict(X_test)))"
      ],
      "execution_count": null,
      "outputs": [
        {
          "output_type": "stream",
          "text": [
            "G-Mean Baseline test:  0.0\n",
            "G-Mean Random Forest test: 0.7761798945543448\n",
            "G-Mean Logistic Regression test: 0.8488942868371214\n"
          ],
          "name": "stdout"
        }
      ]
    },
    {
      "cell_type": "markdown",
      "metadata": {
        "id": "mAmFk4rgdCK5"
      },
      "source": [
        "Observamos el mismo caso para el primer caso dado que esta métrica pondera que tan bien podemos clasificar ambas clases"
      ]
    },
    {
      "cell_type": "markdown",
      "metadata": {
        "id": "8PvzeBQkpzRF"
      },
      "source": [
        "## Dominance\n",
        "\n",
        "- **Dominance** = True Positive Rate - True Negative Rate"
      ]
    },
    {
      "cell_type": "code",
      "metadata": {
        "id": "a3JS3gA-pzRG"
      },
      "source": [
        "def dominance(y_true, y_pred):\n",
        "    tpr = recall_score(y_test, y_pred, pos_label=1)\n",
        "    tnr = recall_score(y_test, y_pred, pos_label=0)\n",
        "    return tpr - tnr"
      ],
      "execution_count": 13,
      "outputs": []
    },
    {
      "cell_type": "code",
      "metadata": {
        "colab": {
          "base_uri": "https://localhost:8080/"
        },
        "id": "4Q8uIvO9pzRH",
        "outputId": "57e0b15b-e26d-4c96-fd10-3fa7c2f31b23"
      },
      "source": [
        "print('Dominance Baseline test: ', dominance(y_test, y_test_base))\n",
        "print('Dominance Random Forest test:', dominance(y_test, rf.predict(X_test)))\n",
        "print('Dominance Logistic Regression test:', dominance(y_test, logit.predict(X_test)))"
      ],
      "execution_count": 14,
      "outputs": [
        {
          "output_type": "stream",
          "text": [
            "Dominance Baseline test:  -1.0\n",
            "Dominance Random Forest test: -0.39750778070453663\n",
            "Dominance Logistic Regression test: -0.2760584565236659\n"
          ],
          "name": "stdout"
        }
      ]
    },
    {
      "cell_type": "markdown",
      "metadata": {
        "id": "gH6EryD8dKOz"
      },
      "source": [
        "Métrica que va de -1 a 1 "
      ]
    },
    {
      "cell_type": "markdown",
      "metadata": {
        "id": "_MF-SdAFpzRI"
      },
      "source": [
        "## Metrics vs threshold"
      ]
    },
    {
      "cell_type": "code",
      "metadata": {
        "colab": {
          "base_uri": "https://localhost:8080/",
          "height": 311
        },
        "id": "xevKmfB6pzRJ",
        "outputId": "f2394124-a8d6-4dd3-8b72-9c709a73cba5"
      },
      "source": [
        "# list of thresholds\n",
        "thresholds = np.linspace(0, 1, 100)\n",
        "\n",
        "# list co collect values\n",
        "recall_ls = []\n",
        "tnr_ls = []\n",
        "dominance_ls = []\n",
        "gmean_ls = []\n",
        "\n",
        "# obtain probabilities\n",
        "probs_logit = logit.predict_proba(X_test)[:, 1]\n",
        "\n",
        "# calculate G-Mean based on thresholds\n",
        "for threshold in thresholds:\n",
        "\n",
        "    # obtain class prediction based on threshold\n",
        "    preds_logit = np.where(probs_logit >= threshold, 1, 0)\n",
        "\n",
        "    # obtain metrics\n",
        "    recall_ls.append(recall_score(y_test, preds_logit, pos_label=1))\n",
        "    tnr_ls.append((recall_score(y_test, preds_logit, pos_label=0)))\n",
        "    dominance_ls.append(dominance(y_test, preds_logit))\n",
        "    gmean_ls.append(geometric_mean_score(y_test, preds_logit))\n",
        "\n",
        "\n",
        "# after loop concatenate metrics\n",
        "metrics = pd.concat([\n",
        "    pd.Series(recall_ls),\n",
        "    pd.Series(tnr_ls),\n",
        "    pd.Series(dominance_ls),\n",
        "    pd.Series(gmean_ls)], axis=1)\n",
        "\n",
        "# add column names and thresholds in index\n",
        "metrics.columns = ['Recall', 'TNR', 'Dominance', 'GMean']\n",
        "metrics.index = thresholds\n",
        "\n",
        "# plot\n",
        "metrics.plot()\n",
        "plt.xlabel('Probability Threshold')\n",
        "plt.ylabel('Metrics')\n",
        "plt.title('Metrics vs Discriminant Threshold')"
      ],
      "execution_count": 15,
      "outputs": [
        {
          "output_type": "execute_result",
          "data": {
            "text/plain": [
              "Text(0.5, 1.0, 'Metrics vs Discriminant Threshold')"
            ]
          },
          "metadata": {
            "tags": []
          },
          "execution_count": 15
        },
        {
          "output_type": "display_data",
          "data": {
            "image/png": "[encoded data removed]",
            "text/plain": [
              "<Figure size 432x288 with 1 Axes>"
            ]
          },
          "metadata": {
            "tags": [],
            "needs_background": "light"
          }
        }
      ]
    },
    {
      "cell_type": "markdown",
      "metadata": {
        "id": "6aYNB08sdTPM"
      },
      "source": [
        "Observamos como va cambiando el rendimiento de las métricas conforme vamos variando el punto de corte."
      ]
    },
    {
      "cell_type": "markdown",
      "metadata": {
        "id": "rufPJXXspzRM"
      },
      "source": [
        "## Index of imbalanced accuracy\n",
        "\n",
        "### Geometric Mean"
      ]
    },
    {
      "cell_type": "code",
      "metadata": {
        "colab": {
          "base_uri": "https://localhost:8080/"
        },
        "id": "NERdI6AFpzRM",
        "outputId": "4c663dd7-88ec-46cb-e0d7-33654662bc06"
      },
      "source": [
        "print('G-Mean Baseline test: ', geometric_mean_score(y_test, y_test_base))\n",
        "print('G-Mean Random Forest test:', geometric_mean_score(y_test, rf.predict(X_test)))\n",
        "print('G-Mean Logistic Regression test:', geometric_mean_score(y_test, logit.predict(X_test)))"
      ],
      "execution_count": 16,
      "outputs": [
        {
          "output_type": "stream",
          "text": [
            "G-Mean Baseline test:  0.0\n",
            "G-Mean Random Forest test: 0.7761798945543448\n",
            "G-Mean Logistic Regression test: 0.8503564499777623\n"
          ],
          "name": "stdout"
        }
      ]
    },
    {
      "cell_type": "code",
      "metadata": {
        "colab": {
          "base_uri": "https://localhost:8080/"
        },
        "id": "yFTlEkM3pzRO",
        "outputId": "df2aa1f8-77c0-4339-97dc-5b2b47043ef3"
      },
      "source": [
        "gmean = make_index_balanced_accuracy(alpha=0.5, squared=True)(geometric_mean_score)\n",
        "\n",
        "print('Corrected G-Mean Baseline test: ', gmean(y_test, y_test_base))\n",
        "print('Corrected G-Mean Random Forest test:', gmean(y_test, rf.predict(X_test)))\n",
        "print('Corrected G-Mean Logistic Regression test:', gmean(y_test, logit.predict(X_test)))"
      ],
      "execution_count": 17,
      "outputs": [
        {
          "output_type": "stream",
          "text": [
            "Corrected G-Mean Baseline test:  0.0\n",
            "Corrected G-Mean Random Forest test: 0.6024552287103938\n",
            "Corrected G-Mean Logistic Regression test: 0.7231060920187825\n"
          ],
          "name": "stdout"
        }
      ]
    },
    {
      "cell_type": "markdown",
      "metadata": {
        "id": "2OxsCJvZpzRP"
      },
      "source": [
        "### Accuracy"
      ]
    },
    {
      "cell_type": "code",
      "metadata": {
        "colab": {
          "base_uri": "https://localhost:8080/"
        },
        "id": "WMVbzVufpzRT",
        "outputId": "d7bc558a-7a65-43fc-e3bb-a6bee95a02cb"
      },
      "source": [
        "print('Accuracy Baseline test: ', accuracy_score(y_test, y_test_base))\n",
        "print('Accuracy Random Forest test:', accuracy_score(y_test, rf.predict(X_test)))\n",
        "print('Accuracy Logistic Regression test:', accuracy_score(y_test, logit.predict(X_test)))"
      ],
      "execution_count": 18,
      "outputs": [
        {
          "output_type": "stream",
          "text": [
            "Accuracy Baseline test:  0.9907377761514888\n",
            "Accuracy Random Forest test: 0.9962951104605955\n",
            "Accuracy Logistic Regression test: 0.996958331427526\n"
          ],
          "name": "stdout"
        }
      ]
    },
    {
      "cell_type": "code",
      "metadata": {
        "colab": {
          "base_uri": "https://localhost:8080/"
        },
        "id": "OboOJD8LpzRX",
        "outputId": "3cb7860f-f677-4918-9289-88d4c9a6f050"
      },
      "source": [
        "acc = make_index_balanced_accuracy(alpha=0.5, squared=True)(accuracy_score)\n",
        "\n",
        "print('Corrected Accuracy Baseline test: ', acc(y_test, y_test_base))\n",
        "print('Corrected Accuracy Random Forest test:', acc(y_test, rf.predict(X_test)))\n",
        "print('Corrected Accuracy Logistic Regression test:', acc(y_test, logit.predict(X_test)))"
      ],
      "execution_count": 19,
      "outputs": [
        {
          "output_type": "stream",
          "text": [
            "Corrected Accuracy Baseline test:  0.4907806705467988\n",
            "Corrected Accuracy Random Forest test: 0.7953200510570445\n",
            "Corrected Accuracy Logistic Regression test: 0.8567350876607018\n"
          ],
          "name": "stdout"
        }
      ]
    },
    {
      "cell_type": "markdown",
      "metadata": {
        "id": "WdbCjpG-pzRc"
      },
      "source": [
        "## Balanced Accuracy\n",
        "\n",
        "https://scikit-learn.org/stable/modules/generated/sklearn.metrics.balanced_accuracy_score.html"
      ]
    },
    {
      "cell_type": "code",
      "metadata": {
        "colab": {
          "base_uri": "https://localhost:8080/"
        },
        "id": "XtmwZplUpzRd",
        "outputId": "c453a709-1e7f-49dd-81ae-a7bd1fbe9d56"
      },
      "source": [
        "print('Corrected Accuracy Baseline test: ', balanced_accuracy_score(y_test, y_test_base))\n",
        "print('Corrected Accuracy Random Forest test:', balanced_accuracy_score(y_test, rf.predict(X_test)))\n",
        "print('Corrected Accuracy Logistic Regression test:', balanced_accuracy_score(y_test, logit.predict(X_test)))"
      ],
      "execution_count": 20,
      "outputs": [
        {
          "output_type": "stream",
          "text": [
            "Corrected Accuracy Baseline test:  0.5\n",
            "Corrected Accuracy Random Forest test: 0.8012230261547375\n",
            "Corrected Accuracy Logistic Regression test: 0.8614860183852897\n"
          ],
          "name": "stdout"
        }
      ]
    },
    {
      "cell_type": "markdown",
      "metadata": {
        "id": "ahKCrsqxdfx6"
      },
      "source": [
        "Accuracy ajustado mediante el parámetro alpha para cuando las clases están desbalanceadas"
      ]
    },
    {
      "cell_type": "code",
      "metadata": {
        "id": "hkut7XmZpzRf"
      },
      "source": [
        ""
      ],
      "execution_count": null,
      "outputs": []
    }
  ]
}