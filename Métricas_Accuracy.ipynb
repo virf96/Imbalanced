{
  "nbformat": 4,
  "nbformat_minor": 0,
  "metadata": {
    "kernelspec": {
      "display_name": "imbalanced",
      "language": "python",
      "name": "imbalanced"
    },
    "language_info": {
      "codemirror_mode": {
        "name": "ipython",
        "version": 3
      },
      "file_extension": ".py",
      "mimetype": "text/x-python",
      "name": "python",
      "nbconvert_exporter": "python",
      "pygments_lexer": "ipython3",
      "version": "3.8.2"
    },
    "toc": {
      "base_numbering": 1,
      "nav_menu": {},
      "number_sections": true,
      "sideBar": true,
      "skip_h1_title": false,
      "title_cell": "Table of Contents",
      "title_sidebar": "Contents",
      "toc_cell": false,
      "toc_position": {},
      "toc_section_display": true,
      "toc_window_display": false
    },
    "colab": {
      "name": "Métricas_Accuracy.ipynb",
      "provenance": [],
      "toc_visible": true,
      "include_colab_link": true
    }
  },
  "cells": [
    {
      "cell_type": "markdown",
      "metadata": {
        "id": "view-in-github",
        "colab_type": "text"
      },
      "source": [
        "<a href=\"https://colab.research.google.com/github/virf96/Imbalanced/blob/main/M%C3%A9tricas_Accuracy.ipynb\" target=\"_parent\"><img src=\"https://colab.research.google.com/assets/colab-badge.svg\" alt=\"Open In Colab\"/></a>"
      ]
    },
    {
      "cell_type": "markdown",
      "metadata": {
        "id": "pZ_pbl2UuZGE"
      },
      "source": [
        "## Accuracy\n",
        "\n",
        "Fraction of percentage of correct predictions."
      ]
    },
    {
      "cell_type": "code",
      "metadata": {
        "colab": {
          "base_uri": "https://localhost:8080/"
        },
        "id": "eBedqHtq06FS",
        "outputId": "c4ce8db1-649a-41c9-8ab1-929630e47fe2"
      },
      "source": [
        "from google.colab import drive\n",
        "drive.mount('/content/drive')"
      ],
      "execution_count": 1,
      "outputs": [
        {
          "output_type": "stream",
          "text": [
            "Mounted at /content/drive\n"
          ],
          "name": "stdout"
        }
      ]
    },
    {
      "cell_type": "code",
      "metadata": {
        "id": "TycIxxdQuZGT"
      },
      "source": [
        "import numpy as np\n",
        "import pandas as pd\n",
        "\n",
        "from sklearn.ensemble import RandomForestClassifier\n",
        "from sklearn.linear_model import LogisticRegression\n",
        "from sklearn.model_selection import train_test_split\n",
        "\n",
        "from sklearn.metrics import accuracy_score"
      ],
      "execution_count": 2,
      "outputs": []
    },
    {
      "cell_type": "markdown",
      "metadata": {
        "id": "YS8_gvPPuZGV"
      },
      "source": [
        "## Load data"
      ]
    },
    {
      "cell_type": "code",
      "metadata": {
        "colab": {
          "base_uri": "https://localhost:8080/",
          "height": 211
        },
        "id": "Hf6RIVd8uZGW",
        "outputId": "c0a78004-8868-4486-d898-8967034be003"
      },
      "source": [
        "# load data\n",
        "data = pd.read_csv('/content/drive/MyDrive/datasets/kdd2004.csv')\n",
        "\n",
        "# remap target class to 0 and 1\n",
        "data['target'] = data['target'].map({-1:0, 1:1})\n",
        "\n",
        "data.head()"
      ],
      "execution_count": 3,
      "outputs": [
        {
          "output_type": "execute_result",
          "data": {
            "text/html": [
              "<div>\n",
              "<style scoped>\n",
              "    .dataframe tbody tr th:only-of-type {\n",
              "        vertical-align: middle;\n",
              "    }\n",
              "\n",
              "    .dataframe tbody tr th {\n",
              "        vertical-align: top;\n",
              "    }\n",
              "\n",
              "    .dataframe thead th {\n",
              "        text-align: right;\n",
              "    }\n",
              "</style>\n",
              "<table border=\"1\" class=\"dataframe\">\n",
              "  <thead>\n",
              "    <tr style=\"text-align: right;\">\n",
              "      <th></th>\n",
              "      <th>0</th>\n",
              "      <th>1</th>\n",
              "      <th>2</th>\n",
              "      <th>3</th>\n",
              "      <th>4</th>\n",
              "      <th>5</th>\n",
              "      <th>6</th>\n",
              "      <th>7</th>\n",
              "      <th>8</th>\n",
              "      <th>9</th>\n",
              "      <th>10</th>\n",
              "      <th>11</th>\n",
              "      <th>12</th>\n",
              "      <th>13</th>\n",
              "      <th>14</th>\n",
              "      <th>15</th>\n",
              "      <th>16</th>\n",
              "      <th>17</th>\n",
              "      <th>18</th>\n",
              "      <th>19</th>\n",
              "      <th>20</th>\n",
              "      <th>21</th>\n",
              "      <th>22</th>\n",
              "      <th>23</th>\n",
              "      <th>24</th>\n",
              "      <th>25</th>\n",
              "      <th>26</th>\n",
              "      <th>27</th>\n",
              "      <th>28</th>\n",
              "      <th>29</th>\n",
              "      <th>30</th>\n",
              "      <th>31</th>\n",
              "      <th>32</th>\n",
              "      <th>33</th>\n",
              "      <th>34</th>\n",
              "      <th>35</th>\n",
              "      <th>36</th>\n",
              "      <th>37</th>\n",
              "      <th>38</th>\n",
              "      <th>39</th>\n",
              "      <th>40</th>\n",
              "      <th>41</th>\n",
              "      <th>42</th>\n",
              "      <th>43</th>\n",
              "      <th>44</th>\n",
              "      <th>45</th>\n",
              "      <th>46</th>\n",
              "      <th>47</th>\n",
              "      <th>48</th>\n",
              "      <th>49</th>\n",
              "      <th>50</th>\n",
              "      <th>51</th>\n",
              "      <th>52</th>\n",
              "      <th>53</th>\n",
              "      <th>54</th>\n",
              "      <th>55</th>\n",
              "      <th>56</th>\n",
              "      <th>57</th>\n",
              "      <th>58</th>\n",
              "      <th>59</th>\n",
              "      <th>60</th>\n",
              "      <th>61</th>\n",
              "      <th>62</th>\n",
              "      <th>63</th>\n",
              "      <th>64</th>\n",
              "      <th>65</th>\n",
              "      <th>66</th>\n",
              "      <th>67</th>\n",
              "      <th>68</th>\n",
              "      <th>69</th>\n",
              "      <th>70</th>\n",
              "      <th>71</th>\n",
              "      <th>72</th>\n",
              "      <th>73</th>\n",
              "      <th>target</th>\n",
              "    </tr>\n",
              "  </thead>\n",
              "  <tbody>\n",
              "    <tr>\n",
              "      <th>0</th>\n",
              "      <td>52.0</td>\n",
              "      <td>32.69</td>\n",
              "      <td>0.30</td>\n",
              "      <td>2.5</td>\n",
              "      <td>20.0</td>\n",
              "      <td>1256.8</td>\n",
              "      <td>-0.89</td>\n",
              "      <td>0.33</td>\n",
              "      <td>11.0</td>\n",
              "      <td>-55.0</td>\n",
              "      <td>267.2</td>\n",
              "      <td>0.52</td>\n",
              "      <td>0.05</td>\n",
              "      <td>-2.36</td>\n",
              "      <td>49.6</td>\n",
              "      <td>252.0</td>\n",
              "      <td>0.43</td>\n",
              "      <td>1.16</td>\n",
              "      <td>-2.06</td>\n",
              "      <td>-33.0</td>\n",
              "      <td>-123.2</td>\n",
              "      <td>1.60</td>\n",
              "      <td>-0.49</td>\n",
              "      <td>-6.06</td>\n",
              "      <td>65.0</td>\n",
              "      <td>296.1</td>\n",
              "      <td>-0.28</td>\n",
              "      <td>-0.26</td>\n",
              "      <td>-3.83</td>\n",
              "      <td>-22.6</td>\n",
              "      <td>-170.0</td>\n",
              "      <td>3.06</td>\n",
              "      <td>-1.05</td>\n",
              "      <td>-3.29</td>\n",
              "      <td>22.9</td>\n",
              "      <td>286.3</td>\n",
              "      <td>0.12</td>\n",
              "      <td>2.58</td>\n",
              "      <td>4.08</td>\n",
              "      <td>-33.0</td>\n",
              "      <td>-178.9</td>\n",
              "      <td>1.88</td>\n",
              "      <td>0.53</td>\n",
              "      <td>-7.0</td>\n",
              "      <td>-44.0</td>\n",
              "      <td>1987.0</td>\n",
              "      <td>-5.41</td>\n",
              "      <td>0.95</td>\n",
              "      <td>-4.0</td>\n",
              "      <td>-57.0</td>\n",
              "      <td>722.9</td>\n",
              "      <td>-3.26</td>\n",
              "      <td>-0.55</td>\n",
              "      <td>-7.5</td>\n",
              "      <td>125.5</td>\n",
              "      <td>1547.2</td>\n",
              "      <td>-0.36</td>\n",
              "      <td>1.12</td>\n",
              "      <td>9.0</td>\n",
              "      <td>-37.0</td>\n",
              "      <td>72.5</td>\n",
              "      <td>0.47</td>\n",
              "      <td>0.74</td>\n",
              "      <td>-11.0</td>\n",
              "      <td>-8.0</td>\n",
              "      <td>1595.1</td>\n",
              "      <td>-1.64</td>\n",
              "      <td>2.83</td>\n",
              "      <td>-2.0</td>\n",
              "      <td>-50.0</td>\n",
              "      <td>445.2</td>\n",
              "      <td>-0.35</td>\n",
              "      <td>0.26</td>\n",
              "      <td>0.76</td>\n",
              "      <td>0</td>\n",
              "    </tr>\n",
              "    <tr>\n",
              "      <th>1</th>\n",
              "      <td>58.0</td>\n",
              "      <td>33.33</td>\n",
              "      <td>0.00</td>\n",
              "      <td>16.5</td>\n",
              "      <td>9.5</td>\n",
              "      <td>608.1</td>\n",
              "      <td>0.50</td>\n",
              "      <td>0.07</td>\n",
              "      <td>20.5</td>\n",
              "      <td>-52.5</td>\n",
              "      <td>521.6</td>\n",
              "      <td>-1.08</td>\n",
              "      <td>0.58</td>\n",
              "      <td>-0.02</td>\n",
              "      <td>-3.2</td>\n",
              "      <td>103.6</td>\n",
              "      <td>-0.95</td>\n",
              "      <td>0.23</td>\n",
              "      <td>-2.87</td>\n",
              "      <td>-25.9</td>\n",
              "      <td>-52.2</td>\n",
              "      <td>-0.21</td>\n",
              "      <td>0.87</td>\n",
              "      <td>-1.81</td>\n",
              "      <td>10.4</td>\n",
              "      <td>62.0</td>\n",
              "      <td>-0.28</td>\n",
              "      <td>-0.04</td>\n",
              "      <td>1.48</td>\n",
              "      <td>-17.6</td>\n",
              "      <td>-198.3</td>\n",
              "      <td>3.43</td>\n",
              "      <td>2.84</td>\n",
              "      <td>5.87</td>\n",
              "      <td>-16.9</td>\n",
              "      <td>72.6</td>\n",
              "      <td>-0.31</td>\n",
              "      <td>2.79</td>\n",
              "      <td>2.71</td>\n",
              "      <td>-33.5</td>\n",
              "      <td>-11.6</td>\n",
              "      <td>-1.11</td>\n",
              "      <td>4.01</td>\n",
              "      <td>5.0</td>\n",
              "      <td>-57.0</td>\n",
              "      <td>666.3</td>\n",
              "      <td>1.13</td>\n",
              "      <td>4.38</td>\n",
              "      <td>5.0</td>\n",
              "      <td>-64.0</td>\n",
              "      <td>39.3</td>\n",
              "      <td>1.07</td>\n",
              "      <td>-0.16</td>\n",
              "      <td>32.5</td>\n",
              "      <td>100.0</td>\n",
              "      <td>1893.7</td>\n",
              "      <td>-2.80</td>\n",
              "      <td>-0.22</td>\n",
              "      <td>2.5</td>\n",
              "      <td>-28.5</td>\n",
              "      <td>45.0</td>\n",
              "      <td>0.58</td>\n",
              "      <td>0.41</td>\n",
              "      <td>-19.0</td>\n",
              "      <td>-6.0</td>\n",
              "      <td>762.9</td>\n",
              "      <td>0.29</td>\n",
              "      <td>0.82</td>\n",
              "      <td>-3.0</td>\n",
              "      <td>-35.0</td>\n",
              "      <td>140.3</td>\n",
              "      <td>1.16</td>\n",
              "      <td>0.39</td>\n",
              "      <td>0.73</td>\n",
              "      <td>0</td>\n",
              "    </tr>\n",
              "    <tr>\n",
              "      <th>2</th>\n",
              "      <td>77.0</td>\n",
              "      <td>27.27</td>\n",
              "      <td>-0.91</td>\n",
              "      <td>6.0</td>\n",
              "      <td>58.5</td>\n",
              "      <td>1623.6</td>\n",
              "      <td>-1.40</td>\n",
              "      <td>0.02</td>\n",
              "      <td>-6.5</td>\n",
              "      <td>-48.0</td>\n",
              "      <td>621.0</td>\n",
              "      <td>-1.20</td>\n",
              "      <td>0.14</td>\n",
              "      <td>-0.20</td>\n",
              "      <td>73.6</td>\n",
              "      <td>609.1</td>\n",
              "      <td>-0.44</td>\n",
              "      <td>-0.58</td>\n",
              "      <td>-0.04</td>\n",
              "      <td>-23.0</td>\n",
              "      <td>-27.4</td>\n",
              "      <td>-0.72</td>\n",
              "      <td>-1.04</td>\n",
              "      <td>-1.09</td>\n",
              "      <td>91.1</td>\n",
              "      <td>635.6</td>\n",
              "      <td>-0.88</td>\n",
              "      <td>0.24</td>\n",
              "      <td>0.59</td>\n",
              "      <td>-18.7</td>\n",
              "      <td>-7.2</td>\n",
              "      <td>-0.60</td>\n",
              "      <td>-2.82</td>\n",
              "      <td>-0.71</td>\n",
              "      <td>52.4</td>\n",
              "      <td>504.1</td>\n",
              "      <td>0.89</td>\n",
              "      <td>-0.67</td>\n",
              "      <td>-9.30</td>\n",
              "      <td>-20.8</td>\n",
              "      <td>-25.7</td>\n",
              "      <td>-0.77</td>\n",
              "      <td>-0.85</td>\n",
              "      <td>0.0</td>\n",
              "      <td>-20.0</td>\n",
              "      <td>2259.0</td>\n",
              "      <td>-0.94</td>\n",
              "      <td>1.15</td>\n",
              "      <td>-4.0</td>\n",
              "      <td>-44.0</td>\n",
              "      <td>-22.7</td>\n",
              "      <td>0.94</td>\n",
              "      <td>-0.98</td>\n",
              "      <td>-19.0</td>\n",
              "      <td>105.0</td>\n",
              "      <td>1267.9</td>\n",
              "      <td>1.03</td>\n",
              "      <td>1.27</td>\n",
              "      <td>11.0</td>\n",
              "      <td>-39.5</td>\n",
              "      <td>82.3</td>\n",
              "      <td>0.47</td>\n",
              "      <td>-0.19</td>\n",
              "      <td>-10.0</td>\n",
              "      <td>7.0</td>\n",
              "      <td>1491.8</td>\n",
              "      <td>0.32</td>\n",
              "      <td>-1.29</td>\n",
              "      <td>0.0</td>\n",
              "      <td>-34.0</td>\n",
              "      <td>658.2</td>\n",
              "      <td>-0.76</td>\n",
              "      <td>0.26</td>\n",
              "      <td>0.24</td>\n",
              "      <td>0</td>\n",
              "    </tr>\n",
              "    <tr>\n",
              "      <th>3</th>\n",
              "      <td>41.0</td>\n",
              "      <td>27.91</td>\n",
              "      <td>-0.35</td>\n",
              "      <td>3.0</td>\n",
              "      <td>46.0</td>\n",
              "      <td>1921.6</td>\n",
              "      <td>-1.36</td>\n",
              "      <td>-0.47</td>\n",
              "      <td>-32.0</td>\n",
              "      <td>-51.5</td>\n",
              "      <td>560.9</td>\n",
              "      <td>-0.29</td>\n",
              "      <td>-0.10</td>\n",
              "      <td>-1.11</td>\n",
              "      <td>124.3</td>\n",
              "      <td>791.6</td>\n",
              "      <td>0.00</td>\n",
              "      <td>0.39</td>\n",
              "      <td>-1.85</td>\n",
              "      <td>-21.7</td>\n",
              "      <td>-44.9</td>\n",
              "      <td>-0.21</td>\n",
              "      <td>0.02</td>\n",
              "      <td>0.89</td>\n",
              "      <td>133.9</td>\n",
              "      <td>797.8</td>\n",
              "      <td>-0.08</td>\n",
              "      <td>1.06</td>\n",
              "      <td>-0.26</td>\n",
              "      <td>-16.4</td>\n",
              "      <td>-74.1</td>\n",
              "      <td>0.97</td>\n",
              "      <td>-0.80</td>\n",
              "      <td>-0.41</td>\n",
              "      <td>66.9</td>\n",
              "      <td>955.3</td>\n",
              "      <td>-1.90</td>\n",
              "      <td>1.28</td>\n",
              "      <td>-6.65</td>\n",
              "      <td>-28.1</td>\n",
              "      <td>47.5</td>\n",
              "      <td>-1.91</td>\n",
              "      <td>1.42</td>\n",
              "      <td>1.0</td>\n",
              "      <td>-30.0</td>\n",
              "      <td>1846.7</td>\n",
              "      <td>0.76</td>\n",
              "      <td>1.10</td>\n",
              "      <td>-4.0</td>\n",
              "      <td>-52.0</td>\n",
              "      <td>-53.9</td>\n",
              "      <td>1.71</td>\n",
              "      <td>-0.22</td>\n",
              "      <td>-12.0</td>\n",
              "      <td>97.5</td>\n",
              "      <td>1969.8</td>\n",
              "      <td>-1.70</td>\n",
              "      <td>0.16</td>\n",
              "      <td>-1.0</td>\n",
              "      <td>-32.5</td>\n",
              "      <td>255.9</td>\n",
              "      <td>-0.46</td>\n",
              "      <td>1.57</td>\n",
              "      <td>10.0</td>\n",
              "      <td>6.0</td>\n",
              "      <td>2047.7</td>\n",
              "      <td>-0.98</td>\n",
              "      <td>1.53</td>\n",
              "      <td>0.0</td>\n",
              "      <td>-49.0</td>\n",
              "      <td>554.2</td>\n",
              "      <td>-0.83</td>\n",
              "      <td>0.39</td>\n",
              "      <td>0.73</td>\n",
              "      <td>0</td>\n",
              "    </tr>\n",
              "    <tr>\n",
              "      <th>4</th>\n",
              "      <td>50.0</td>\n",
              "      <td>28.00</td>\n",
              "      <td>-1.32</td>\n",
              "      <td>-9.0</td>\n",
              "      <td>12.0</td>\n",
              "      <td>464.8</td>\n",
              "      <td>0.88</td>\n",
              "      <td>0.19</td>\n",
              "      <td>8.0</td>\n",
              "      <td>-51.5</td>\n",
              "      <td>98.1</td>\n",
              "      <td>1.09</td>\n",
              "      <td>-0.33</td>\n",
              "      <td>-2.16</td>\n",
              "      <td>-3.9</td>\n",
              "      <td>102.7</td>\n",
              "      <td>0.39</td>\n",
              "      <td>-1.22</td>\n",
              "      <td>-3.39</td>\n",
              "      <td>-15.2</td>\n",
              "      <td>-42.2</td>\n",
              "      <td>-1.18</td>\n",
              "      <td>-1.11</td>\n",
              "      <td>-3.55</td>\n",
              "      <td>8.9</td>\n",
              "      <td>141.3</td>\n",
              "      <td>-0.16</td>\n",
              "      <td>-0.43</td>\n",
              "      <td>-4.15</td>\n",
              "      <td>-12.9</td>\n",
              "      <td>-13.4</td>\n",
              "      <td>-1.32</td>\n",
              "      <td>-0.98</td>\n",
              "      <td>-3.69</td>\n",
              "      <td>8.8</td>\n",
              "      <td>136.1</td>\n",
              "      <td>-0.30</td>\n",
              "      <td>4.13</td>\n",
              "      <td>1.89</td>\n",
              "      <td>-13.0</td>\n",
              "      <td>-18.7</td>\n",
              "      <td>-1.37</td>\n",
              "      <td>-0.93</td>\n",
              "      <td>0.0</td>\n",
              "      <td>-1.0</td>\n",
              "      <td>810.1</td>\n",
              "      <td>-2.29</td>\n",
              "      <td>6.72</td>\n",
              "      <td>1.0</td>\n",
              "      <td>-23.0</td>\n",
              "      <td>-29.7</td>\n",
              "      <td>0.58</td>\n",
              "      <td>-1.10</td>\n",
              "      <td>-18.5</td>\n",
              "      <td>33.5</td>\n",
              "      <td>206.8</td>\n",
              "      <td>1.84</td>\n",
              "      <td>-0.13</td>\n",
              "      <td>4.0</td>\n",
              "      <td>-29.0</td>\n",
              "      <td>30.1</td>\n",
              "      <td>0.80</td>\n",
              "      <td>-0.24</td>\n",
              "      <td>5.0</td>\n",
              "      <td>-14.0</td>\n",
              "      <td>479.5</td>\n",
              "      <td>0.68</td>\n",
              "      <td>-0.59</td>\n",
              "      <td>2.0</td>\n",
              "      <td>-36.0</td>\n",
              "      <td>-6.9</td>\n",
              "      <td>2.02</td>\n",
              "      <td>0.14</td>\n",
              "      <td>-0.23</td>\n",
              "      <td>0</td>\n",
              "    </tr>\n",
              "  </tbody>\n",
              "</table>\n",
              "</div>"
            ],
            "text/plain": [
              "      0      1     2     3     4       5  ...    69     70    71    72    73  target\n",
              "0  52.0  32.69  0.30   2.5  20.0  1256.8  ... -50.0  445.2 -0.35  0.26  0.76       0\n",
              "1  58.0  33.33  0.00  16.5   9.5   608.1  ... -35.0  140.3  1.16  0.39  0.73       0\n",
              "2  77.0  27.27 -0.91   6.0  58.5  1623.6  ... -34.0  658.2 -0.76  0.26  0.24       0\n",
              "3  41.0  27.91 -0.35   3.0  46.0  1921.6  ... -49.0  554.2 -0.83  0.39  0.73       0\n",
              "4  50.0  28.00 -1.32  -9.0  12.0   464.8  ... -36.0   -6.9  2.02  0.14 -0.23       0\n",
              "\n",
              "[5 rows x 75 columns]"
            ]
          },
          "metadata": {
            "tags": []
          },
          "execution_count": 3
        }
      ]
    },
    {
      "cell_type": "code",
      "metadata": {
        "id": "kVJLFwGRuZGZ",
        "colab": {
          "base_uri": "https://localhost:8080/"
        },
        "outputId": "13a25f86-e696-4e96-948c-12d796afee85"
      },
      "source": [
        "# data size\n",
        "\n",
        "data.shape"
      ],
      "execution_count": 4,
      "outputs": [
        {
          "output_type": "execute_result",
          "data": {
            "text/plain": [
              "(145751, 75)"
            ]
          },
          "metadata": {
            "tags": []
          },
          "execution_count": 4
        }
      ]
    },
    {
      "cell_type": "code",
      "metadata": {
        "id": "z12kbHCeuZGb",
        "colab": {
          "base_uri": "https://localhost:8080/"
        },
        "outputId": "b896dbed-780c-4e19-ef12-edc361d04e16"
      },
      "source": [
        "#Veamos el porcentaje de prescencia en el set de las etiquetas a clasificar\n",
        "# imbalanced target\n",
        "\n",
        "data.target.value_counts() / len(data)"
      ],
      "execution_count": 5,
      "outputs": [
        {
          "output_type": "execute_result",
          "data": {
            "text/plain": [
              "0    0.991108\n",
              "1    0.008892\n",
              "Name: target, dtype: float64"
            ]
          },
          "metadata": {
            "tags": []
          },
          "execution_count": 5
        }
      ]
    },
    {
      "cell_type": "code",
      "metadata": {
        "id": "r9n4EBb5uZGc",
        "colab": {
          "base_uri": "https://localhost:8080/"
        },
        "outputId": "2eaa03e9-e1cf-45c8-c27f-931c1d080987"
      },
      "source": [
        "# separate dataset into train and test\n",
        "\n",
        "X_train, X_test, y_train, y_test = train_test_split(\n",
        "    data.drop(labels=['target'], axis=1),  # drop the target\n",
        "    data['target'],  # just the target\n",
        "    test_size=0.3,\n",
        "    random_state=0)\n",
        "\n",
        "X_train.shape, X_test.shape"
      ],
      "execution_count": 6,
      "outputs": [
        {
          "output_type": "execute_result",
          "data": {
            "text/plain": [
              "((102025, 74), (43726, 74))"
            ]
          },
          "metadata": {
            "tags": []
          },
          "execution_count": 6
        }
      ]
    },
    {
      "cell_type": "markdown",
      "metadata": {
        "id": "Zi9Xb5CPuZGc"
      },
      "source": [
        "## Baseline: predict the majority class"
      ]
    },
    {
      "cell_type": "code",
      "metadata": {
        "id": "2V_ZU3AXuZGd"
      },
      "source": [
        "# Baseline prediction: predict the majority class\n",
        "\n",
        "y_train_base = pd.Series(np.zeros(len(y_train)))\n",
        "y_test_base = pd.Series(np.zeros(len(y_test)))"
      ],
      "execution_count": 7,
      "outputs": []
    },
    {
      "cell_type": "code",
      "metadata": {
        "colab": {
          "base_uri": "https://localhost:8080/"
        },
        "id": "TF02RsLeS-pJ",
        "outputId": "54f65daf-8f42-4cbb-da8d-41d6b5c2dc0c"
      },
      "source": [
        "y_train_base.unique()"
      ],
      "execution_count": 9,
      "outputs": [
        {
          "output_type": "execute_result",
          "data": {
            "text/plain": [
              "array([0.])"
            ]
          },
          "metadata": {
            "tags": []
          },
          "execution_count": 9
        }
      ]
    },
    {
      "cell_type": "markdown",
      "metadata": {
        "id": "41HTmsLTuZGe"
      },
      "source": [
        "## Train ML models\n",
        "\n",
        "### Random Forests"
      ]
    },
    {
      "cell_type": "code",
      "metadata": {
        "id": "rfyubVLwuZGe"
      },
      "source": [
        "rf = RandomForestClassifier(n_estimators=100, random_state=39, max_depth=2, n_jobs=4)\n",
        "\n",
        "rf.fit(X_train, y_train)\n",
        "\n",
        "y_train_rf = rf.predict_proba(X_train)[:,1]\n",
        "y_test_rf = rf.predict_proba(X_test)[:,1]"
      ],
      "execution_count": 10,
      "outputs": []
    },
    {
      "cell_type": "markdown",
      "metadata": {
        "id": "tYLmE-uluZGf"
      },
      "source": [
        "### Logistic Regression"
      ]
    },
    {
      "cell_type": "code",
      "metadata": {
        "id": "-G24h0dUuZGf",
        "colab": {
          "base_uri": "https://localhost:8080/"
        },
        "outputId": "bb691258-f39d-48d5-89b2-045ce8b2dfff"
      },
      "source": [
        "logit = LogisticRegression(random_state=0,  max_iter=1000)\n",
        "\n",
        "logit.fit(X_train, y_train)\n",
        "\n",
        "y_train_logit = logit.predict_proba(X_train)[:,1]\n",
        "y_test_logit = logit.predict_proba(X_test)[:,1]"
      ],
      "execution_count": 11,
      "outputs": [
        {
          "output_type": "stream",
          "text": [
            "/usr/local/lib/python3.6/dist-packages/sklearn/linear_model/_logistic.py:940: ConvergenceWarning: lbfgs failed to converge (status=1):\n",
            "STOP: TOTAL NO. of ITERATIONS REACHED LIMIT.\n",
            "\n",
            "Increase the number of iterations (max_iter) or scale the data as shown in:\n",
            "    https://scikit-learn.org/stable/modules/preprocessing.html\n",
            "Please also refer to the documentation for alternative solver options:\n",
            "    https://scikit-learn.org/stable/modules/linear_model.html#logistic-regression\n",
            "  extra_warning_msg=_LOGISTIC_SOLVER_CONVERGENCE_MSG)\n"
          ],
          "name": "stderr"
        }
      ]
    },
    {
      "cell_type": "markdown",
      "metadata": {
        "id": "nLZdRnf-uZGg"
      },
      "source": [
        "## Accuracy"
      ]
    },
    {
      "cell_type": "markdown",
      "metadata": {
        "id": "IImyEupfTLVK"
      },
      "source": [
        "Observamos que todos tienen una precisión parecida en la predicción pero consideremos que:\r\n",
        "\r\n",
        "$\\bullet$ y_test_base es un vector de ceros, es decir solo predice esa clase"
      ]
    },
    {
      "cell_type": "code",
      "metadata": {
        "id": "MOzfOLMTuZGg",
        "outputId": "921e9690-25dc-456b-c4a8-cc47ee2f97d1"
      },
      "source": [
        "print('Accuracy Baseline test: ', accuracy_score(y_test, y_test_base))\n",
        "print('Accuracy Random Forest test:', accuracy_score(y_test, rf.predict(X_test)))\n",
        "print('Accuracy Logistic Regression test:', accuracy_score(y_test, logit.predict(X_test)))"
      ],
      "execution_count": null,
      "outputs": [
        {
          "output_type": "stream",
          "text": [
            "Accuracy Baseline test:  0.9907377761514888\n",
            "Accuracy Random Forest test: 0.9962951104605955\n",
            "Accuracy Logistic Regression test: 0.9969125920504963\n"
          ],
          "name": "stdout"
        }
      ]
    },
    {
      "cell_type": "markdown",
      "metadata": {
        "id": "gDcMJz-4uZGh"
      },
      "source": [
        "Judging by the accuracy, it seems that the machine learning models add only a tiny bit of performance compared to the baseline."
      ]
    },
    {
      "cell_type": "markdown",
      "metadata": {
        "id": "KPUsdR0auZGi"
      },
      "source": [
        "## Percentage of the minority correctly classified"
      ]
    },
    {
      "cell_type": "markdown",
      "metadata": {
        "id": "53c3XGVsTlKw"
      },
      "source": [
        "Veamos que tan bueno es el rendimiento de la predicción del modelo para clasificar la clase minoritaria que es la de mayor interés."
      ]
    },
    {
      "cell_type": "code",
      "metadata": {
        "id": "yZn4kJcvuZGi"
      },
      "source": [
        "def return_minority_perc(y_true, y_pred):\n",
        "    return np.mean(np.where((y_true==1)&(y_pred==1),1,0))*100"
      ],
      "execution_count": 12,
      "outputs": []
    },
    {
      "cell_type": "code",
      "metadata": {
        "id": "x0wfnqgtuZGj",
        "colab": {
          "base_uri": "https://localhost:8080/"
        },
        "outputId": "d8f5fa19-31a4-4add-f2af-5eeffad57d30"
      },
      "source": [
        "print('% minority correctly classified, Baseline test: ', return_minority_perc(y_test, y_test_base))\n",
        "print('% minority correctly classified, Random Forest test:', return_minority_perc(y_test, rf.predict(X_test)))\n",
        "print('% minority correctly classified, Regression test:', return_minority_perc(y_test, logit.predict(X_test)))"
      ],
      "execution_count": 13,
      "outputs": [
        {
          "output_type": "stream",
          "text": [
            "% minority correctly classified, Baseline test:  0.0\n",
            "% minority correctly classified, Random Forest test: 0.5580203997621552\n",
            "% minority correctly classified, Regression test: 0.6700818734848831\n"
          ],
          "name": "stdout"
        }
      ]
    },
    {
      "cell_type": "markdown",
      "metadata": {
        "id": "gz0hwff1uZGk"
      },
      "source": [
        "However, we see that the baseline does not classify correctly any observation from the minority class, while the machine learning models do."
      ]
    },
    {
      "cell_type": "code",
      "metadata": {
        "id": "V61deUBBuZGl"
      },
      "source": [
        ""
      ],
      "execution_count": null,
      "outputs": []
    }
  ]
}